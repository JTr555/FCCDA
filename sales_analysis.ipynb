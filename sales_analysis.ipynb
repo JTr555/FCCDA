{
 "cells": [
  {
   "cell_type": "markdown",
   "metadata": {},
   "source": [
    "# Sales Data Analysis\n",
    "\n",
    "First, let's import the necessary libraries and load the data."
   ]
  },
  {
   "cell_type": "code",
   "execution_count": null,
   "metadata": {},
   "source": [
    "import numpy as np\n",
    "import pandas as pd\n",
    "import matplotlib.pyplot as plt\n",
    "\n",
    "# Load the sales data\n",
    "sales = pd.read_csv('data/sales_data.csv')\n",
    "\n",
    "# Display the first few rows of the data\n",
    "print(\"First 5 rows of the sales data:\")\n",
    "sales.head()"
   ]
  },
  {
   "cell_type": "code",
   "execution_count": null,
   "metadata": {},
   "source": [
    "# Basic statistics of numerical columns\n",
    "print(\"\\nBasic statistics of Customer Age and Order Quantity:\")\n",
    "print(sales[['Customer_Age', 'Order_Quantity']].describe())"
   ]
  }
 ],
 "metadata": {
  "kernelspec": {
   "display_name": "Python 3",
   "language": "python3",
   "name": "python3"
  }
 },
 "nbformat": 4,
 "nbformat_minor": 4
}