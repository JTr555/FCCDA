{
 "cells": [
  {
   "cell_type": "markdown",
   "metadata": {},
   "source": [
    "# Sales Data Analysis Quick Start Template\n",
    "\n",
    "Use this template to avoid the 'NameError: name 'sales' is not defined' error (Fixes #44)"
   ]
  },
  {
   "cell_type": "code",
   "execution_count": null,
   "metadata": {},
   "source": [
    "# Step 1: Import required libraries\n",
    "import numpy as np\n",
    "import pandas as pd\n",
    "import matplotlib.pyplot as plt"
   ]
  },
  {
   "cell_type": "code",
   "execution_count": null,
   "metadata": {},
   "source": [
    "# Step 2: Load the sales data\n",
    "sales = pd.read_csv('data/sales_data.csv')\n",
    "\n",
    "# Convert date column to datetime\n",
    "sales['Date'] = pd.to_datetime(sales['Date'])"
   ]
  },
  {
   "cell_type": "code",
   "execution_count": null,
   "metadata": {},
   "source": [
    "# Step 3: Basic data exploration\n",
    "print(\"Data Shape:\", sales.shape)\n",
    "print(\"\\nColumns:\", sales.columns.tolist())\n",
    "print(\"\\nFirst few rows:\")\n",
    "sales.head()"
   ]
  },
  {
   "cell_type": "code",
   "execution_count": null,
   "metadata": {},
   "source": [
    "# Step 4: Example analyses\n",
    "\n",
    "# 4.1 Basic statistics\n",
    "print(\"Basic statistics:\")\n",
    "sales[['Customer_Age', 'Order_Quantity', 'Profit']].describe()\n",
    "\n",
    "# 4.2 Sales by country\n",
    "print(\"\\nSales by country:\")\n",
    "sales.groupby('Country')['Profit'].sum().sort_values(ascending=False)\n",
    "\n",
    "# 4.3 Product category analysis\n",
    "print(\"\\nProduct category analysis:\")\n",
    "sales.groupby('Product_Category')[['Order_Quantity', 'Profit']].mean()"
   ]
  }
 ],
 "metadata": {
  "kernelspec": {
   "display_name": "Python 3",
   "language": "python3",
   "name": "python3"
  }
 },
 "nbformat": 4,
 "nbformat_minor": 4
}